{
 "cells": [
  {
   "cell_type": "code",
   "execution_count": 17,
   "metadata": {},
   "outputs": [],
   "source": [
    "from bs4 import BeautifulSoup\n",
    "import requests\n",
    "import os \n",
    "import re\n",
    "import urllib"
   ]
  },
  {
   "cell_type": "code",
   "execution_count": 12,
   "metadata": {},
   "outputs": [],
   "source": [
    "#資料class: list-unstyled  圖片col-md-5 col-lg-6\n",
    "def main():\n",
    "    for result in range(1,2000):\n",
    "        resp = requests.get('https://www.ss.net.tw/paint-169-'+str(result)+'.html')\n",
    "        soup = BeautifulSoup(resp.text, 'html.parser')\n",
    "        B3 = soup.find(class_='list-unstyled')\n",
    "        print(B3.getText())\n"
   ]
  },
  {
   "cell_type": "code",
   "execution_count": null,
   "metadata": {},
   "outputs": [],
   "source": [
    "main()"
   ]
  },
  {
   "cell_type": "code",
   "execution_count": 31,
   "metadata": {},
   "outputs": [
    {
     "name": "stdout",
     "output_type": "stream",
     "text": [
      "https://www.ss.net.tw/images/product_images/popup_images/AlmaTedema005.jpg\n"
     ]
    }
   ],
   "source": [
    "resp = requests.get('https://www.ss.net.tw/paint-169-5.html')\n",
    "soup = BeautifulSoup(resp.text, 'html.parser')\n",
    "imgList = soup.find('img','lazyload')\n",
    "print(imgList.get('data-src'))"
   ]
  },
  {
   "cell_type": "code",
   "execution_count": null,
   "metadata": {},
   "outputs": [],
   "source": []
  }
 ],
 "metadata": {
  "kernelspec": {
   "display_name": "Python 3",
   "language": "python",
   "name": "python3"
  },
  "language_info": {
   "codemirror_mode": {
    "name": "ipython",
    "version": 3
   },
   "file_extension": ".py",
   "mimetype": "text/x-python",
   "name": "python",
   "nbconvert_exporter": "python",
   "pygments_lexer": "ipython3",
   "version": "3.8.5"
  }
 },
 "nbformat": 4,
 "nbformat_minor": 4
}
